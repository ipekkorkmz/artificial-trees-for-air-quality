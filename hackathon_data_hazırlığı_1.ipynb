{
 "cells": [
  {
   "cell_type": "markdown",
   "id": "5d146edc",
   "metadata": {},
   "source": [
    "## DATA TEMİZLİĞİ VE HAZIRLIĞI \n",
    "Öncellikle işimize yarayacak olan kütüphaneleri import ettik."
   ]
  },
  {
   "cell_type": "code",
   "execution_count": 1,
   "id": "0938bc14",
   "metadata": {},
   "outputs": [],
   "source": [
    "import numpy as np\n",
    "import requests\n",
    "import json\n",
    "import pandas as pd\n",
    "from itertools import chain"
   ]
  },
  {
   "cell_type": "markdown",
   "id": "715c2a01",
   "metadata": {},
   "source": [
    "[Hava Kalitesi İstasyon Ölçüm Sonuçları Web Servisini](https://data.ibb.gov.tr/dataset/hava-kalitesi-istasyon-olcum-sonuclari-web-servisi) kullanarak datayı çektik. json.dumps ifadesi Python objesini JSON stringine çevirdi ve ensure_ascii=False ifadesiyle Türkçe karakterleri kullanabilmemizi, sort_keys=True ile de sözlüğün keylerini sıralayabilmemizi sağladı. Daha sonra JSON stringe dönmüş ifademizi json.loads ile birlikte tekrar Python sözlüğüne çevirdik."
   ]
  },
  {
   "cell_type": "code",
   "execution_count": 2,
   "id": "7de5e95e",
   "metadata": {},
   "outputs": [],
   "source": [
    "url = \"https://api.ibb.gov.tr/havakalitesi/OpenDataPortalHandler/GetAQIStations\"\n",
    "JSONContent = requests.get(url).json()\n",
    "content = json.dumps(JSONContent, indent = 4, sort_keys=True, ensure_ascii=False) \n",
    "resp = json.loads(content)"
   ]
  },
  {
   "cell_type": "markdown",
   "id": "727c8a2a",
   "metadata": {},
   "source": [
    "İlçelerin isimlerini ve IDlerini görebileceğimiz bir dictionary oluşturduk. "
   ]
  },
  {
   "cell_type": "code",
   "execution_count": 3,
   "id": "89804e17",
   "metadata": {},
   "outputs": [],
   "source": [
    "ilce_dict = {}\n",
    "for ilce in resp:\n",
    "    ilce_dict.update({ilce[\"Name\"]:ilce[\"Id\"]})"
   ]
  },
  {
   "cell_type": "markdown",
   "id": "bfc3e5ae",
   "metadata": {},
   "source": [
    "İlçenin adresini, IDsini, point vektörlerini ve isimini görebileceğimiz bir data oluşturmak istedik. Bunun için başta boş bir data frame oluşturduk ve sütunları boş olarak atadık sonra bir for loopuyla bu sütunları valuelarıyla doldurduk. Böylece JSON datasından aldığımız bilgilerle bir data frame elde etmiş olduk."
   ]
  },
  {
   "cell_type": "code",
   "execution_count": 4,
   "id": "1106d87f",
   "metadata": {},
   "outputs": [],
   "source": [
    "ilce_info = pd.DataFrame()\n",
    "ilce_info[\"Adress\"] = None\n",
    "ilce_info[\"Id\"] = None\n",
    "ilce_info[\"Location\"] = None\n",
    "ilce_info[\"Name\"] = None\n",
    "for i in range(len(resp)):\n",
    "    ilce_info.at[i] = [resp[i][\"Adress\"], resp[i][\"Id\"], resp[i][\"Location\"], resp[i][\"Name\"]]"
   ]
  },
  {
   "cell_type": "markdown",
   "id": "88dda9bc",
   "metadata": {},
   "source": [
    "Adress sütununda her satırı belirli bir format haline getirmek için for döngüsü kurduk ve sütundaki ilçe isimleri aynı formda yazılmış oldu."
   ]
  },
  {
   "cell_type": "code",
   "execution_count": 5,
   "id": "8503bbd1",
   "metadata": {},
   "outputs": [
    {
     "data": {
      "text/html": [
       "<div>\n",
       "<style scoped>\n",
       "    .dataframe tbody tr th:only-of-type {\n",
       "        vertical-align: middle;\n",
       "    }\n",
       "\n",
       "    .dataframe tbody tr th {\n",
       "        vertical-align: top;\n",
       "    }\n",
       "\n",
       "    .dataframe thead th {\n",
       "        text-align: right;\n",
       "    }\n",
       "</style>\n",
       "<table border=\"1\" class=\"dataframe\">\n",
       "  <thead>\n",
       "    <tr style=\"text-align: right;\">\n",
       "      <th></th>\n",
       "      <th>Adress</th>\n",
       "      <th>Id</th>\n",
       "      <th>Location</th>\n",
       "      <th>Name</th>\n",
       "    </tr>\n",
       "  </thead>\n",
       "  <tbody>\n",
       "    <tr>\n",
       "      <th>0</th>\n",
       "      <td>Sarıyer Belediyesi</td>\n",
       "      <td>6b7a9840-1e13-4045-a79d-0f881c4852ad</td>\n",
       "      <td>POINT (29.024512004171349 41.100072371412381)</td>\n",
       "      <td>Maslak</td>\n",
       "    </tr>\n",
       "    <tr>\n",
       "      <th>1</th>\n",
       "      <td>Esenler Belediyesi</td>\n",
       "      <td>914b525e-f275-41e1-b45b-118ada8f08c3</td>\n",
       "      <td>POINT (28.888071049660041 41.036871407562813)</td>\n",
       "      <td>Esenler</td>\n",
       "    </tr>\n",
       "    <tr>\n",
       "      <th>2</th>\n",
       "      <td>Bahçelievler Belediyesi</td>\n",
       "      <td>6929a9ca-977d-4cb3-b1b5-26b95f4d4515</td>\n",
       "      <td>POINT (28.82703188207584 40.997387017164129)</td>\n",
       "      <td>Yenibosna</td>\n",
       "    </tr>\n",
       "    <tr>\n",
       "      <th>3</th>\n",
       "      <td>Beylikdüzü Belediyesi</td>\n",
       "      <td>41f90c1f-570d-46cd-9beb-493d9162639a</td>\n",
       "      <td>POINT (28.612769803421966 40.971651116893213)</td>\n",
       "      <td>Beylikdüzü</td>\n",
       "    </tr>\n",
       "    <tr>\n",
       "      <th>4</th>\n",
       "      <td>Ümraniye Belediyesi</td>\n",
       "      <td>377e1216-bcc7-42c0-aad8-4d5b3d602b78</td>\n",
       "      <td>POINT (29.161812932369855 41.0126908139832)</td>\n",
       "      <td>Ümraniye 1</td>\n",
       "    </tr>\n",
       "  </tbody>\n",
       "</table>\n",
       "</div>"
      ],
      "text/plain": [
       "                    Adress                                    Id  \\\n",
       "0       Sarıyer Belediyesi  6b7a9840-1e13-4045-a79d-0f881c4852ad   \n",
       "1       Esenler Belediyesi  914b525e-f275-41e1-b45b-118ada8f08c3   \n",
       "2  Bahçelievler Belediyesi  6929a9ca-977d-4cb3-b1b5-26b95f4d4515   \n",
       "3    Beylikdüzü Belediyesi  41f90c1f-570d-46cd-9beb-493d9162639a   \n",
       "4      Ümraniye Belediyesi  377e1216-bcc7-42c0-aad8-4d5b3d602b78   \n",
       "\n",
       "                                        Location        Name  \n",
       "0  POINT (29.024512004171349 41.100072371412381)      Maslak  \n",
       "1  POINT (28.888071049660041 41.036871407562813)     Esenler  \n",
       "2   POINT (28.82703188207584 40.997387017164129)   Yenibosna  \n",
       "3  POINT (28.612769803421966 40.971651116893213)  Beylikdüzü  \n",
       "4    POINT (29.161812932369855 41.0126908139832)  Ümraniye 1  "
      ]
     },
     "execution_count": 5,
     "metadata": {},
     "output_type": "execute_result"
    }
   ],
   "source": [
    "a = ilce_info[\"Adress\"].apply(lambda row: row.split(\" \"))\n",
    "i=0\n",
    "for row in a:\n",
    "    for eleman in row:\n",
    "        if eleman != \"İstanbul\" and eleman != \"Turkey\" and len(eleman)>1:\n",
    "            a = eleman + \" Belediyesi\"\n",
    "            ilce_info.at[i, \"Adress\"] = a\n",
    "    i = i+1\n",
    "ilce_info.head()"
   ]
  },
  {
   "cell_type": "markdown",
   "id": "2b99b98b",
   "metadata": {},
   "source": [
    "Point vektörlerin bulunduğu Location sütununu daha kullanışlı bir hale getirmek için apply methodunu kullandık. Daha öncesinde location sütununda point vektörler \"POINT (29.024512004171349 41.100072371412381)\" şeklinde görünüyordu. Biz apply methodu ile ilk 6 karakteri, \"POINT \"i, sildik. Daha sonra sayı ikililerinin arasına virgül ekledik. Böylece elde ettiğimiz yapı (29.024512004171349,41.100072371412381) şeklinde oldu. Daha sonrasında elde ettiğimiz bu veriyi csv dosyası halinde kaydettik."
   ]
  },
  {
   "cell_type": "code",
   "execution_count": 6,
   "id": "dd1eeb35",
   "metadata": {},
   "outputs": [],
   "source": [
    "ilce_info['Location'] = ilce_info['Location'].apply(lambda row: row[7:-1])\n",
    "ilce_info['Location'] = ilce_info['Location'].apply(lambda row: row.split(\" \"))\n",
    "ilce_info[\"Longitude\"] = ilce_info['Location'].apply(lambda row: row[0])\n",
    "ilce_info[\"Latitude\"] = ilce_info['Location'].apply(lambda row: row[1])"
   ]
  },
  {
   "cell_type": "code",
   "execution_count": 7,
   "id": "b3abaf0d",
   "metadata": {},
   "outputs": [],
   "source": [
    "ilce_info.to_csv(\"ilce_info1.csv\")"
   ]
  },
  {
   "cell_type": "markdown",
   "id": "403e8332",
   "metadata": {},
   "source": [
    "Bir sonraki adımda, ilçelere göre ayrı ayrı verilmiş olan hava kalitesi sonuçlarını data olarak almamız gerekiyordu. Bunun için\n",
    "her bir ilçe için, yani ilce_dict sözlüğünün her bir valuesu(IDsi) için, 2020ye dair hava kalitesi değerlerini aldık. Bu değerleri station_list adında bir listede topladık. "
   ]
  },
  {
   "cell_type": "code",
   "execution_count": 8,
   "id": "8c06e463",
   "metadata": {},
   "outputs": [],
   "source": [
    "station_list = []\n",
    "for ilce in ilce_dict.values():   #ilce_dict'teki her bir id için\n",
    "    JSONContent = requests.get(\"https://api.ibb.gov.tr/havakalitesi/OpenDataPortalHandler/GetAQIByStationId?StationId=\" + ilce +\n",
    "                               \"&StartDate=01.01.2020%2000:00:00&EndDate=19.06.2020%2000:00:00\").json() \n",
    "                                  #2020 hava kalitesi valuelarını aldık\n",
    "    station_list.append([JSONContent]) "
   ]
  },
  {
   "cell_type": "markdown",
   "id": "fb86d3de",
   "metadata": {},
   "source": [
    "Daha sonra bu listeyi data frame'e çevirdik. Ve ilce_info data frame'indeki Name ve Location valuelarını bu datasete ekledik. Locationdaki point vektörleri, daha sonra görselleştirme için kullanmak üzere, enlem ve boylam olarak ayırıp dataya ekledik."
   ]
  },
  {
   "cell_type": "code",
   "execution_count": 9,
   "id": "0c7a0a91",
   "metadata": {},
   "outputs": [
    {
     "data": {
      "text/html": [
       "<div>\n",
       "<style scoped>\n",
       "    .dataframe tbody tr th:only-of-type {\n",
       "        vertical-align: middle;\n",
       "    }\n",
       "\n",
       "    .dataframe tbody tr th {\n",
       "        vertical-align: top;\n",
       "    }\n",
       "\n",
       "    .dataframe thead th {\n",
       "        text-align: right;\n",
       "    }\n",
       "</style>\n",
       "<table border=\"1\" class=\"dataframe\">\n",
       "  <thead>\n",
       "    <tr style=\"text-align: right;\">\n",
       "      <th></th>\n",
       "      <th>0</th>\n",
       "      <th>Name</th>\n",
       "      <th>Location</th>\n",
       "      <th>Longitude</th>\n",
       "      <th>Latitude</th>\n",
       "      <th>Adress</th>\n",
       "    </tr>\n",
       "  </thead>\n",
       "  <tbody>\n",
       "    <tr>\n",
       "      <th>0</th>\n",
       "      <td>[{'ReadTime': '2020-01-01T00:00:00', 'Concentr...</td>\n",
       "      <td>Maslak</td>\n",
       "      <td>[29.024512004171349, 41.100072371412381]</td>\n",
       "      <td>29.024512004171349</td>\n",
       "      <td>41.100072371412381</td>\n",
       "      <td>Sarıyer Belediyesi</td>\n",
       "    </tr>\n",
       "    <tr>\n",
       "      <th>1</th>\n",
       "      <td>[{'ReadTime': '2020-01-01T00:00:00', 'Concentr...</td>\n",
       "      <td>Esenler</td>\n",
       "      <td>[28.888071049660041, 41.036871407562813]</td>\n",
       "      <td>28.888071049660041</td>\n",
       "      <td>41.036871407562813</td>\n",
       "      <td>Esenler Belediyesi</td>\n",
       "    </tr>\n",
       "    <tr>\n",
       "      <th>2</th>\n",
       "      <td>[{'ReadTime': '2020-01-01T00:00:00', 'Concentr...</td>\n",
       "      <td>Yenibosna</td>\n",
       "      <td>[28.82703188207584, 40.997387017164129]</td>\n",
       "      <td>28.82703188207584</td>\n",
       "      <td>40.997387017164129</td>\n",
       "      <td>Bahçelievler Belediyesi</td>\n",
       "    </tr>\n",
       "    <tr>\n",
       "      <th>3</th>\n",
       "      <td>[{'ReadTime': '2020-01-01T00:00:00', 'Concentr...</td>\n",
       "      <td>Beylikdüzü</td>\n",
       "      <td>[28.612769803421966, 40.971651116893213]</td>\n",
       "      <td>28.612769803421966</td>\n",
       "      <td>40.971651116893213</td>\n",
       "      <td>Beylikdüzü Belediyesi</td>\n",
       "    </tr>\n",
       "    <tr>\n",
       "      <th>4</th>\n",
       "      <td>[{'ReadTime': '2020-01-01T00:00:00', 'Concentr...</td>\n",
       "      <td>Ümraniye 1</td>\n",
       "      <td>[29.161812932369855, 41.0126908139832]</td>\n",
       "      <td>29.161812932369855</td>\n",
       "      <td>41.0126908139832</td>\n",
       "      <td>Ümraniye Belediyesi</td>\n",
       "    </tr>\n",
       "  </tbody>\n",
       "</table>\n",
       "</div>"
      ],
      "text/plain": [
       "                                                   0        Name  \\\n",
       "0  [{'ReadTime': '2020-01-01T00:00:00', 'Concentr...      Maslak   \n",
       "1  [{'ReadTime': '2020-01-01T00:00:00', 'Concentr...     Esenler   \n",
       "2  [{'ReadTime': '2020-01-01T00:00:00', 'Concentr...   Yenibosna   \n",
       "3  [{'ReadTime': '2020-01-01T00:00:00', 'Concentr...  Beylikdüzü   \n",
       "4  [{'ReadTime': '2020-01-01T00:00:00', 'Concentr...  Ümraniye 1   \n",
       "\n",
       "                                   Location           Longitude  \\\n",
       "0  [29.024512004171349, 41.100072371412381]  29.024512004171349   \n",
       "1  [28.888071049660041, 41.036871407562813]  28.888071049660041   \n",
       "2   [28.82703188207584, 40.997387017164129]   28.82703188207584   \n",
       "3  [28.612769803421966, 40.971651116893213]  28.612769803421966   \n",
       "4    [29.161812932369855, 41.0126908139832]  29.161812932369855   \n",
       "\n",
       "             Latitude                   Adress  \n",
       "0  41.100072371412381       Sarıyer Belediyesi  \n",
       "1  41.036871407562813       Esenler Belediyesi  \n",
       "2  40.997387017164129  Bahçelievler Belediyesi  \n",
       "3  40.971651116893213    Beylikdüzü Belediyesi  \n",
       "4    41.0126908139832      Ümraniye Belediyesi  "
      ]
     },
     "execution_count": 9,
     "metadata": {},
     "output_type": "execute_result"
    }
   ],
   "source": [
    "dataset = pd.DataFrame(station_list)\n",
    "dataset[\"Name\"] = ilce_info[\"Name\"].values\n",
    "dataset[\"Location\"] = ilce_info[\"Location\"].values\n",
    "dataset[\"Longitude\"] = ilce_info[\"Longitude\"].values\n",
    "dataset[\"Latitude\"] = ilce_info[\"Latitude\"].values\n",
    "dataset[\"Adress\"] = ilce_info[\"Adress\"].values\n",
    "dataset.head() #datasetin ilk 5 satırı"
   ]
  },
  {
   "cell_type": "markdown",
   "id": "44533bea",
   "metadata": {},
   "source": [
    "Dataları her bir ilçe için aldıktan sonra bunu tek bir data içerisinde topladık.\n",
    "Bunun için önce boş bir dictionary oluşturduk ve valueları ekledik. Daha sonrasında oluşan dictionarye diğer valueları eklemek için append kullandık. Aynı zamanda bazı ilçe verileri için hava kalitesi değeri(AQI) None'dı bu hataya sebep oluyordu, bu yüzden if yapılarına onu da dahil ettik. Bu datayı csv dosyasına kaydettik."
   ]
  },
  {
   "cell_type": "code",
   "execution_count": 10,
   "id": "043d019a",
   "metadata": {},
   "outputs": [],
   "source": [
    "dataframe = pd.DataFrame()\n",
    "for i in range(len(dataset)):            #28 tane ilçe için \n",
    "    a_dict = {}\n",
    "    for a_ilce in dataset.iloc[i][0]:    #her bir satıra bakıyor.\n",
    "        if a_dict=={}:                   #ilk satırı oluştururken dictionary boş olacak.  \n",
    "            if a_ilce[\"AQI\"] != None: \n",
    "                a_dict[\"ReadTime\"] = [a_ilce[\"ReadTime\"]]\n",
    "                a_dict[\"AQIIndex\"] = [a_ilce[\"AQI\"][\"AQIIndex\"]]\n",
    "                a_dict[\"Name\"] = [dataset.at[i,'Name']]\n",
    "                a_dict[\"Location\"] = [dataset.at[i,'Location']]\n",
    "                a_dict[\"Longitude\"] = [dataset.at[i,'Longitude']]\n",
    "                a_dict[\"Latitude\"] = [dataset.at[i,'Latitude']]\n",
    "                a_dict[\"Adress\"] = [dataset.at[i,'Adress']]\n",
    "                \n",
    "            else:\n",
    "                a_dict[\"ReadTime\"] = [a_ilce[\"ReadTime\"]]\n",
    "                a_dict[\"AQIIndex\"] = [\"None\"]\n",
    "                a_dict[\"Name\"] = [dataset.at[i,'Name']]\n",
    "                a_dict[\"Location\"] = [dataset.at[i,'Location']]\n",
    "                a_dict[\"Longitude\"] = [dataset.at[i,'Longitude']]\n",
    "                a_dict[\"Latitude\"] = [dataset.at[i,'Latitude']]\n",
    "                a_dict[\"Adress\"] = [dataset.at[i,'Adress']]\n",
    "        elif a_ilce[\"AQI\"] != None:\n",
    "            a_dict[\"ReadTime\"].append(a_ilce[\"ReadTime\"])\n",
    "            a_dict[\"AQIIndex\"].append(a_ilce[\"AQI\"][\"AQIIndex\"])\n",
    "            a_dict[\"Name\"].append(dataset.at[i,'Name'])\n",
    "            a_dict[\"Location\"].append(dataset.at[i,'Location'])\n",
    "            a_dict[\"Longitude\"].append(dataset.at[i,'Longitude'])\n",
    "            a_dict[\"Latitude\"].append(dataset.at[i,'Latitude'])\n",
    "            a_dict[\"Adress\"].append(dataset.at[i,'Adress'])\n",
    "        else:\n",
    "            a_dict[\"ReadTime\"].append(a_ilce[\"ReadTime\"])\n",
    "            a_dict[\"AQIIndex\"].append(\"None\")\n",
    "            a_dict[\"Name\"].append(dataset.at[i,'Name'])\n",
    "            a_dict[\"Location\"].append(dataset.at[i,'Location'])\n",
    "            a_dict[\"Longitude\"].append(dataset.at[i,'Longitude'])\n",
    "            a_dict[\"Latitude\"].append(dataset.at[i,'Latitude'])\n",
    "            a_dict[\"Adress\"].append(dataset.at[i,'Adress'])\n",
    "    if dataframe.empty:                   #ilk data frame'i oluşturduk\n",
    "        dataframe=pd.DataFrame(a_dict)\n",
    "    else:                                 #oluşan data frame'e ekleme yaptık.\n",
    "        dataframe2 = pd.DataFrame(a_dict)  \n",
    "        dataframe = dataframe.append(dataframe2, ignore_index = True)\n",
    "dataframe.to_csv('dataframe1.csv')"
   ]
  }
 ],
 "metadata": {
  "kernelspec": {
   "display_name": "Python 3 (ipykernel)",
   "language": "python",
   "name": "python3"
  },
  "language_info": {
   "codemirror_mode": {
    "name": "ipython",
    "version": 3
   },
   "file_extension": ".py",
   "mimetype": "text/x-python",
   "name": "python",
   "nbconvert_exporter": "python",
   "pygments_lexer": "ipython3",
   "version": "3.9.7"
  }
 },
 "nbformat": 4,
 "nbformat_minor": 5
}
